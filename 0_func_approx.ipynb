{
 "cells": [
  {
   "cell_type": "code",
   "execution_count": 6,
   "metadata": {},
   "outputs": [],
   "source": [
    "import torch\n",
    "import numpy as np\n",
    "\n",
    "from data import Data, Interval\n",
    "from model import FCNet\n",
    "from solver import FunctionApproximator\n",
    "from plotting import BasePlotter\n",
    "\n",
    "device = torch.device('cpu')"
   ]
  },
  {
   "cell_type": "markdown",
   "metadata": {},
   "source": [
    "Function to approximate\n",
    "\n",
    "$y(x) = \\text{sin}(x)$"
   ]
  },
  {
   "cell_type": "code",
   "execution_count": 7,
   "metadata": {},
   "outputs": [],
   "source": [
    "def func(x):\n",
    "    return torch.sin(x)"
   ]
  },
  {
   "cell_type": "code",
   "execution_count": null,
   "metadata": {},
   "outputs": [],
   "source": [
    "features_in = 1\n",
    "features_out = 1\n",
    "hidden = [4]\n",
    "\n",
    "model = FCNet(features_in, hidden, features_out, activation='relu', init_weights=False)\n",
    "\n",
    "domain = Interval(-np.pi, np.pi, steps=1000)\n",
    "data = Data(domain, solution=func)\n",
    "\n",
    "solver = FunctionApproximator(model, data, device=device)\n",
    "solver.compile('adam', lr=1e-2)\n",
    "losses = solver.train(num_epochs=2000, atol=1e-3, save_gif=True)\n",
    "solver.create_gif(gif_save_path='gif_test4')"
   ]
  },
  {
   "cell_type": "code",
   "execution_count": null,
   "metadata": {},
   "outputs": [],
   "source": [
    "plot = BasePlotter(solver)\n",
    "plot.losses(losses)\n",
    "plot.numerical_solution()"
   ]
  },
  {
   "cell_type": "code",
   "execution_count": null,
   "metadata": {},
   "outputs": [],
   "source": [
    "solver.evaluate(value=0.0)"
   ]
  }
 ],
 "metadata": {
  "kernelspec": {
   "display_name": "python311",
   "language": "python",
   "name": "python3"
  },
  "language_info": {
   "codemirror_mode": {
    "name": "ipython",
    "version": 3
   },
   "file_extension": ".py",
   "mimetype": "text/x-python",
   "name": "python",
   "nbconvert_exporter": "python",
   "pygments_lexer": "ipython3",
   "version": "3.11.7"
  }
 },
 "nbformat": 4,
 "nbformat_minor": 2
}
