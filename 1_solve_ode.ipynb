{
 "cells": [
  {
   "cell_type": "code",
   "execution_count": 1,
   "metadata": {},
   "outputs": [],
   "source": [
    "import torch\n",
    "import numpy as np\n",
    "\n",
    "from data import Interval, Function, Data\n",
    "from model import FCNet\n",
    "from solver import ODESolver\n",
    "from plotting import ODEPlotter\n",
    "\n",
    "device = torch.device('cpu')"
   ]
  },
  {
   "cell_type": "markdown",
   "metadata": {},
   "source": [
    "Differential equation:\n",
    "\n",
    "$y''(x) = - y(x)$\n",
    "\n",
    "Initial conditions:\n",
    "\n",
    "$y(0) = \\frac{\\sqrt{2}}{2}; y'(0) = \\frac{\\sqrt{2}}{2} $\n",
    "\n",
    "Analytic solution:\n",
    "\n",
    "$y(x) = \\frac{\\sqrt{2}}{2} \\text{sin}(x) + \\frac{\\sqrt{2}}{2} \\text{cos}(x)$"
   ]
  },
  {
   "cell_type": "code",
   "execution_count": 2,
   "metadata": {},
   "outputs": [],
   "source": [
    "def f(x, y, dydx, d2ydx2):\n",
    "    return d2ydx2 + y\n",
    "\n",
    "def sol(x):\n",
    "    return np.sqrt(2)/2*torch.sin(x) + np.sqrt(2)/2*torch.cos(x)\n",
    "\n",
    "def d_sol(x):\n",
    "    return np.sqrt(2)/2*torch.cos(x) - np.sqrt(2)/2*torch.sin(x)\n",
    "\n",
    "def d2_sol(x):\n",
    "    return -(np.sqrt(2)/2*torch.sin(x) + np.sqrt(2)/2*torch.cos(x))\n",
    "\n",
    "ode = Function(f)\n",
    "solution = Function(sol)\n",
    "initial_conditions = [(0.0, np.sqrt(2)/2, np.sqrt(2)/2)]"
   ]
  },
  {
   "cell_type": "markdown",
   "metadata": {},
   "source": [
    "Differential equation:\n",
    "\n",
    "$y''(x) = -0.1 \\text{ } y'(x) - 5 \\text{ } y(x) $\n",
    "\n",
    "Initial conditions:\n",
    "\n",
    "$ y(0) = 1, y'(0) = 0 $\n",
    "\n",
    "Analytic solution:\n",
    "\n",
    "$ y(x) = e^{-\\frac{x}{20}}(\\frac{1}{\\sqrt{399}}{\\text{sin}(\\frac{\\sqrt{399}x}{20}}) + \\text{cos}(\\frac{\\sqrt{399}x}{20})) $ "
   ]
  },
  {
   "cell_type": "code",
   "execution_count": 3,
   "metadata": {},
   "outputs": [],
   "source": [
    "def f(x, y, dydx, d2ydx2):\n",
    "    return d2ydx2 + 0.1 * dydx + 5.0 * y\n",
    "\n",
    "def sol(x):\n",
    "    return  torch.exp(-x/20) * (1 / np.sqrt(1999) * torch.sin(np.sqrt(1999) * x / 20) + torch.cos(np.sqrt(1999) * x / 20))\n",
    "\n",
    "def d_sol(x):\n",
    "    return -torch.exp(-x/20) * 100 / np.sqrt(1999) * torch.sin(np.sqrt(1999) * x / 20)\n",
    "\n",
    "def d2_sol(x):\n",
    "    return -0.1 * d_sol(x) - 5 * sol(x)\n",
    "\n",
    "ode = Function(f)\n",
    "solution = Function(sol)\n",
    "initial_conditions = [(0.0, 1.0, 0.0)]"
   ]
  },
  {
   "cell_type": "code",
   "execution_count": null,
   "metadata": {},
   "outputs": [],
   "source": [
    "features_in = 1\n",
    "features_out = 1\n",
    "hidden = [100, 100, 100, 100]\n",
    "\n",
    "model = FCNet(features_in, hidden, features_out, activation='cas', init_weights=False)\n",
    "\n",
    "domain = Interval(0, 2*np.pi, steps=1000)\n",
    "data = Data(domain, ode, initial_conditions, solution=solution)\n",
    "\n",
    "solver = ODESolver(model, data, device=device)\n",
    "# solver.compile('adam', 'onecycle', sch={'max_lr': 5e-4, 'total_steps': 10000})\n",
    "solver.compile('adam', 'step', lr=1e-2, loss_weights=[1.0, 1.0], opt={}, sch={'step_size': 100, 'gamma': 0.95})\n",
    "\n",
    "losses = solver.train(num_epochs=200, atol=1e-5, save_gif=True)\n",
    "solver.create_gif(gif_save_path='gif_test4')"
   ]
  },
  {
   "cell_type": "code",
   "execution_count": null,
   "metadata": {},
   "outputs": [],
   "source": [
    "plot = ODEPlotter(solver)\n",
    "plot.losses(losses)\n",
    "plot.numerical_solution()\n",
    "plot.phase_portrait(exact_derivatives=[d_sol])\n",
    "plot.extended_phase_space(exact_derivatives=[d_sol])"
   ]
  },
  {
   "cell_type": "code",
   "execution_count": null,
   "metadata": {},
   "outputs": [],
   "source": [
    "solver.evaluate(value=0.0)"
   ]
  }
 ],
 "metadata": {
  "kernelspec": {
   "display_name": "python311",
   "language": "python",
   "name": "python3"
  },
  "language_info": {
   "codemirror_mode": {
    "name": "ipython",
    "version": 3
   },
   "file_extension": ".py",
   "mimetype": "text/x-python",
   "name": "python",
   "nbconvert_exporter": "python",
   "pygments_lexer": "ipython3",
   "version": "3.11.7"
  }
 },
 "nbformat": 4,
 "nbformat_minor": 2
}
