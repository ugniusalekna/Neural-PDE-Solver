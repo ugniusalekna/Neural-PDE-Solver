{
 "cells": [
  {
   "cell_type": "code",
   "execution_count": 1,
   "metadata": {},
   "outputs": [],
   "source": [
    "import torch\n",
    "import numpy as np\n",
    "\n",
    "from data import Interval, System, Data\n",
    "from model import FCNet\n",
    "from solver import ODESolver\n",
    "from plotting import ODEPlotter\n",
    "\n",
    "device = torch.device('cpu')"
   ]
  },
  {
   "cell_type": "markdown",
   "metadata": {},
   "source": [
    "System of ODEs:\n",
    "\n",
    "$y_1'=y_2$\n",
    "\n",
    "$y_2'=-y_1$\n",
    "\n",
    "Initial conditions:\n",
    "\n",
    "$y_1(0) = 0, y_2(0) = 1$\n",
    "\n",
    "Analytic solution:\n",
    "\n",
    "$y_1(t) = \\text{sin}(t)$\n",
    "\n",
    "$y_2(t) = \\text{cos}(t)$"
   ]
  },
  {
   "cell_type": "code",
   "execution_count": 2,
   "metadata": {},
   "outputs": [],
   "source": [
    "def odes(x, y, dy):\n",
    "    y1, y2 = y[:, 0], y[:, 1]\n",
    "    dy1, dy2 = dy[:, 0], dy[:, 1]\n",
    "    return [\n",
    "        dy1 - y2,\n",
    "        dy2 + y1\n",
    "    ]\n",
    "\n",
    "def sols(x):\n",
    "    return [\n",
    "        torch.sin(x),\n",
    "        torch.cos(x)\n",
    "    ]\n",
    "\n",
    "def d_sols(x):\n",
    "    return [\n",
    "        torch.cos(x),\n",
    "        -torch.sin(x)\n",
    "    ]\n",
    "    \n",
    "ode_system = System(odes)\n",
    "sol_system = System(sols)\n",
    "\n",
    "initial_conditions = [(0, 0),\n",
    "                      (0, 1)]"
   ]
  },
  {
   "cell_type": "code",
   "execution_count": null,
   "metadata": {},
   "outputs": [],
   "source": [
    "features_in = 1\n",
    "features_out = 2\n",
    "hidden = [100, 100, 100, 100, 100]\n",
    "\n",
    "model = FCNet(features_in, hidden, features_out, activation='cas', init_weights=False)\n",
    "\n",
    "domain = Interval(0, 2*np.pi, steps=1000)\n",
    "data = Data(domain, ode_system, initial_conditions, sol_system)\n",
    "\n",
    "solver = ODESolver(model, data, device=device)\n",
    "solver.compile('adam', 'step', lr=1e-3, loss_weights=[1.0, 1.0], opt={}, sch={'step_size': 100, 'gamma': 0.95})\n",
    "\n",
    "losses = solver.train(num_epochs=10000, atol=1e-5, save_gif=True)\n",
    "solver.create_gif(gif_save_path='gif_test5')"
   ]
  },
  {
   "cell_type": "code",
   "execution_count": null,
   "metadata": {},
   "outputs": [],
   "source": [
    "plot = ODEPlotter(solver)\n",
    "\n",
    "plot.losses(losses)\n",
    "plot.numerical_solution()\n",
    "plot.phase_portrait()"
   ]
  },
  {
   "cell_type": "code",
   "execution_count": null,
   "metadata": {},
   "outputs": [],
   "source": [
    "solver.evaluate(value=0.0)"
   ]
  }
 ],
 "metadata": {
  "kernelspec": {
   "display_name": "python311",
   "language": "python",
   "name": "python3"
  },
  "language_info": {
   "codemirror_mode": {
    "name": "ipython",
    "version": 3
   },
   "file_extension": ".py",
   "mimetype": "text/x-python",
   "name": "python",
   "nbconvert_exporter": "python",
   "pygments_lexer": "ipython3",
   "version": "3.11.7"
  }
 },
 "nbformat": 4,
 "nbformat_minor": 2
}
