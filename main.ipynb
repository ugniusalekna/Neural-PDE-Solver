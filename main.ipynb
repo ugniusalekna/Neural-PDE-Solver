{
 "cells": [
  {
   "cell_type": "code",
   "execution_count": 1,
   "metadata": {},
   "outputs": [],
   "source": [
    "import torch\n",
    "import torch.nn as nn\n",
    "import numpy as np\n",
    "\n",
    "from model import FourierNet\n",
    "from utils import ODESolver, select_available\n",
    "\n",
    "device = torch.device('cpu')\n",
    "# device = select_available()"
   ]
  },
  {
   "cell_type": "code",
   "execution_count": 2,
   "metadata": {},
   "outputs": [],
   "source": [
    "features_in = 1\n",
    "features_out = 1\n",
    "hidden = [100, 100]\n",
    "\n",
    "model = FourierNet(features_in, hidden, features_out)"
   ]
  },
  {
   "cell_type": "markdown",
   "metadata": {},
   "source": [
    "$y'(x) = y(x); y(0) = 1$\n",
    "\n",
    "$y(x) = e^{x}$"
   ]
  },
  {
   "cell_type": "code",
   "execution_count": 3,
   "metadata": {},
   "outputs": [],
   "source": [
    "def rhs_function(x, y):\n",
    "    return y\n",
    "\n",
    "def sol(x):\n",
    "    return torch.exp(x)\n",
    "\n",
    "initial_conditions = [0, 1]\n",
    "\n",
    "solver = ODESolver(model, rhs_function, initial_conditions, norm='L2', device=device)"
   ]
  },
  {
   "cell_type": "code",
   "execution_count": 4,
   "metadata": {},
   "outputs": [
    {
     "name": "stderr",
     "output_type": "stream",
     "text": [
      "Training Progress: 100%|█████████████| 10000/10000 [01:09<00:00, 143.87it/s, Train Loss: 0.01401004]\n"
     ]
    },
    {
     "name": "stdout",
     "output_type": "stream",
     "text": [
      "GIF saved at gif_test3/cas_100_100.gif\n"
     ]
    }
   ],
   "source": [
    "domain = torch.linspace(0.0, 1.5, steps=100).unsqueeze(1)\n",
    "solution = sol(domain)\n",
    "\n",
    "optimizer = torch.optim.Adam(model.parameters(), lr=1e-4)\n",
    "num_epochs = 10000\n",
    "\n",
    "solver.train(domain, num_epochs, optimizer, solution=solution, atol=1e-5, save_gif=True)\n",
    "solver.create_gif(gif_save_path='gif_test3')"
   ]
  },
  {
   "cell_type": "code",
   "execution_count": 5,
   "metadata": {},
   "outputs": [
    {
     "name": "stdout",
     "output_type": "stream",
     "text": [
      "Model parameter count: 20301\n",
      "--- At x=1.0000 ---\n",
      "Prediction: 2.6695, Exact: 2.7183, Abs Error: 0.0488\n",
      "Derivative: 2.6675, Exact: 2.7183, Abs Error: 0.0507\n"
     ]
    }
   ],
   "source": [
    "model.eval()\n",
    "parameter_count = sum(p.numel() for p in model.parameters())\n",
    "\n",
    "x_point = torch.tensor([1.0], requires_grad=True).to(device)\n",
    "output = model(x_point).to(device)\n",
    "output.backward()\n",
    "\n",
    "exact_value = sol(x_point).item()\n",
    "exact_derivative = sol(x_point).item()\n",
    "\n",
    "value_error = abs(output.item() - exact_value)\n",
    "derivative_error = abs(x_point.grad.item() - exact_derivative)\n",
    "\n",
    "results = (\n",
    "    f\"Model parameter count: {parameter_count}\\n\"\n",
    "    f\"--- At x={x_point.item():.4f} ---\\n\"\n",
    "    f\"Prediction: {output.item():.4f}, Exact: {exact_value:.4f}, Abs Error: {value_error:.4f}\\n\"\n",
    "    f\"Derivative: {x_point.grad.item():.4f}, Exact: {exact_derivative:.4f}, Abs Error: {derivative_error:.4f}\"\n",
    ")\n",
    "\n",
    "print(results)"
   ]
  }
 ],
 "metadata": {
  "kernelspec": {
   "display_name": "python311",
   "language": "python",
   "name": "python3"
  },
  "language_info": {
   "codemirror_mode": {
    "name": "ipython",
    "version": 3
   },
   "file_extension": ".py",
   "mimetype": "text/x-python",
   "name": "python",
   "nbconvert_exporter": "python",
   "pygments_lexer": "ipython3",
   "version": "3.11.7"
  }
 },
 "nbformat": 4,
 "nbformat_minor": 2
}
